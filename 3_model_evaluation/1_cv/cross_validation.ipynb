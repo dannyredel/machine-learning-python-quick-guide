{
 "cells": [
  {
   "cell_type": "markdown",
   "metadata": {},
   "source": [
    "---\n",
    "title: \"Model Evaluation Rules: Cross Validation\"\n",
    "author: Daniel Redel\n",
    "date: today\n",
    "format:\n",
    "  html:\n",
    "    toc: true\n",
    "    code-fold: false\n",
    "    html-math-method: katex\n",
    "jupyter: python3\n",
    "---"
   ]
  },
  {
   "cell_type": "code",
   "execution_count": 8,
   "metadata": {},
   "outputs": [],
   "source": [
    "import numpy as np\n",
    "import pandas as pd\n",
    "import matplotlib.pyplot as plt\n",
    "import seaborn as sns\n",
    "\n",
    "import warnings\n",
    "warnings.filterwarnings(\"ignore\")"
   ]
  },
  {
   "cell_type": "markdown",
   "metadata": {},
   "source": [
    "Once a predictive model (_classifier_ or _regressor_) is constructed, it is particularly important to **evaluate its performance**. Model evaluation stage include the use of methods and metrics to estimate the predictive performance of a model. To understand the model evaluation process, it would be helpful to distinguish between **evaluation rules** and **evaluation metrics**.\n",
    "\n",
    "-  A **evaluation metric** is used to quantify the performance of a constructed model.\n",
    "-  A **model evaluation rule**, on the other hand, refers to the procedure that is used to estimate a metric. In other words, a metric could be estimated using various rules.\n",
    "\n",
    "For simplicity of discussion, in what follows, estimation rules are described in connection with classification error rate. However, all procedures, except when stated otherwise, are applicable to estimating classifier and regressor performance metrics.\n",
    "\n",
    "For more, check here: https://scikit-learn.org/stable/model_selection.html#model-selection"
   ]
  },
  {
   "cell_type": "markdown",
   "metadata": {},
   "source": [
    "# Hold-Out Estimator"
   ]
  },
  {
   "attachments": {
    "hold-out.png": {
     "image/png": "[encoded data removed]"
    }
   },
   "cell_type": "markdown",
   "metadata": {},
   "source": [
    "Suppose that we would like to estimate the test error associated with fitting a particular statistical learning method on a set of observations. The **Hold-Out Approach** is a very simple strategy validation set approach for this task:\n",
    "\n",
    "![Hold-Out Estimator](attachment:hold-out.png)\n",
    "\n",
    "> It involves randomly **dividing** the available set of observations **into two parts**, a **training set** and a **validation set** or **hold-out set**.\n",
    "\n",
    "*The **model is fit on the training set**, and the fitted model is used to predict the responses for the observations in the validation set.*\n",
    "\n",
    "The validation set approach is conceptually simple and is easy to implement. But it has two potential drawbacks:\n",
    "\n",
    "1. Results can be highly variable, depending which observations are included in the training set.\n",
    "2. Only a subset of the observations are used to fit the model.\n"
   ]
  },
  {
   "cell_type": "markdown",
   "metadata": {},
   "source": [
    "## Application with `train_test_split`"
   ]
  },
  {
   "cell_type": "markdown",
   "metadata": {},
   "source": [
    "Let's go back to our kNN classifier example:"
   ]
  },
  {
   "cell_type": "code",
   "execution_count": 2,
   "metadata": {},
   "outputs": [
    {
     "data": {
      "text/html": [
       "<div>\n",
       "<style scoped>\n",
       "    .dataframe tbody tr th:only-of-type {\n",
       "        vertical-align: middle;\n",
       "    }\n",
       "\n",
       "    .dataframe tbody tr th {\n",
       "        vertical-align: top;\n",
       "    }\n",
       "\n",
       "    .dataframe thead th {\n",
       "        text-align: right;\n",
       "    }\n",
       "</style>\n",
       "<table border=\"1\" class=\"dataframe\">\n",
       "  <thead>\n",
       "    <tr style=\"text-align: right;\">\n",
       "      <th></th>\n",
       "      <th>sepal length (cm)</th>\n",
       "      <th>sepal width (cm)</th>\n",
       "      <th>petal length (cm)</th>\n",
       "      <th>petal width (cm)</th>\n",
       "      <th>target</th>\n",
       "      <th>target_names</th>\n",
       "    </tr>\n",
       "  </thead>\n",
       "  <tbody>\n",
       "    <tr>\n",
       "      <th>0</th>\n",
       "      <td>5.1</td>\n",
       "      <td>3.5</td>\n",
       "      <td>1.4</td>\n",
       "      <td>0.2</td>\n",
       "      <td>0</td>\n",
       "      <td>setosa</td>\n",
       "    </tr>\n",
       "    <tr>\n",
       "      <th>1</th>\n",
       "      <td>4.9</td>\n",
       "      <td>3.0</td>\n",
       "      <td>1.4</td>\n",
       "      <td>0.2</td>\n",
       "      <td>0</td>\n",
       "      <td>setosa</td>\n",
       "    </tr>\n",
       "    <tr>\n",
       "      <th>2</th>\n",
       "      <td>4.7</td>\n",
       "      <td>3.2</td>\n",
       "      <td>1.3</td>\n",
       "      <td>0.2</td>\n",
       "      <td>0</td>\n",
       "      <td>setosa</td>\n",
       "    </tr>\n",
       "    <tr>\n",
       "      <th>3</th>\n",
       "      <td>4.6</td>\n",
       "      <td>3.1</td>\n",
       "      <td>1.5</td>\n",
       "      <td>0.2</td>\n",
       "      <td>0</td>\n",
       "      <td>setosa</td>\n",
       "    </tr>\n",
       "    <tr>\n",
       "      <th>4</th>\n",
       "      <td>5.0</td>\n",
       "      <td>3.6</td>\n",
       "      <td>1.4</td>\n",
       "      <td>0.2</td>\n",
       "      <td>0</td>\n",
       "      <td>setosa</td>\n",
       "    </tr>\n",
       "  </tbody>\n",
       "</table>\n",
       "</div>"
      ],
      "text/plain": [
       "   sepal length (cm)  sepal width (cm)  petal length (cm)  petal width (cm)  \\\n",
       "0                5.1               3.5                1.4               0.2   \n",
       "1                4.9               3.0                1.4               0.2   \n",
       "2                4.7               3.2                1.3               0.2   \n",
       "3                4.6               3.1                1.5               0.2   \n",
       "4                5.0               3.6                1.4               0.2   \n",
       "\n",
       "   target target_names  \n",
       "0       0       setosa  \n",
       "1       0       setosa  \n",
       "2       0       setosa  \n",
       "3       0       setosa  \n",
       "4       0       setosa  "
      ]
     },
     "execution_count": 2,
     "metadata": {},
     "output_type": "execute_result"
    }
   ],
   "source": [
    "#| label: tbl-raw-dataset\n",
    "#| tbl-cap: Iris Dataset\n",
    "#| code-fold: true\n",
    "\n",
    "from sklearn import datasets\n",
    "iris = datasets.load_iris()\n",
    "\n",
    "df = pd.DataFrame(iris.data, columns=iris.feature_names)\n",
    "# Add target\n",
    "df['target'] = iris.target\n",
    "\n",
    "# Dictionary\n",
    "target_names_dict = {0: 'setosa', 1: 'versicolor', 2: 'virginica'}\n",
    "\n",
    "# Add the target names column to the DataFrame\n",
    "df['target_names'] = df['target'].map(target_names_dict)\n",
    "df.head(5)"
   ]
  },
  {
   "cell_type": "markdown",
   "metadata": {},
   "source": [
    "In `scikit-learn` a random split into training and test sets can be quickly computed with the `train_test_split` helper function. For example, we can now quickly sample a training set while holding out 40% of the data for testing (evaluating) our classifier:"
   ]
  },
  {
   "cell_type": "code",
   "execution_count": 5,
   "metadata": {},
   "outputs": [],
   "source": [
    "from sklearn.model_selection import train_test_split\n",
    "from sklearn.preprocessing import StandardScaler\n",
    "from sklearn.neighbors import KNeighborsClassifier as kNN\n",
    "\n",
    "# Target vs Inputs\n",
    "X = df.drop(columns=[\"target\", \"target_names\"]) # Covariates-Only\n",
    "y = df[\"target\"] # Target-Outcome\n",
    "\n",
    "# Train vs Split\n",
    "X_train, X_test, y_train, y_test = train_test_split(X, y, stratify=y, test_size=0.4, random_state=0)\n",
    "\n",
    "# Normalization\n",
    "scaler = StandardScaler()\n",
    "X_train = scaler.fit_transform(X_train) \n",
    "X_test = scaler.transform(X_test) \n",
    "\n",
    "# Instantiate Class into Object. Set Parameters\n",
    "knn = kNN(n_neighbors=3)\n",
    "\n",
    "# Train Model\n",
    "knn.fit(X_train, y_train)\n",
    "\n",
    "# Predict\n",
    "y_test_pred = knn.predict(X_test)"
   ]
  },
  {
   "cell_type": "markdown",
   "metadata": {},
   "source": [
    "To calculate the test error on the held-out data, we just use the `score` function. \n",
    "\n",
    "Note that **each estimator have a default `score` method** providing a evaluation criterion for the problem they are designed to solve."
   ]
  },
  {
   "cell_type": "code",
   "execution_count": 9,
   "metadata": {},
   "outputs": [
    {
     "name": "stdout",
     "output_type": "stream",
     "text": [
      "Accuracy Train 0.94\n",
      "Accuracy Test 0.97\n"
     ]
    }
   ],
   "source": [
    "from sklearn.metrics import accuracy_score, mean_squared_error\n",
    "print('Accuracy Train', knn.score(X_train, y_train).round(2) ) \n",
    "print('Accuracy Test', knn.score(X_test, y_test).round(2) ) "
   ]
  },
  {
   "cell_type": "markdown",
   "metadata": {},
   "source": [
    "# $k$-Fold Cross Validation"
   ]
  },
  {
   "attachments": {
    "k-fold.png": {
     "image/png": "[encoded data removed]"
    }
   },
   "cell_type": "markdown",
   "metadata": {},
   "source": [
    "The $k$-fold CV approach involves randomly dividing the set of observations into $k$ groups, or folds, of approximately equal size. The first fold is treated as a validation set, and the method is fit on the remaining $k − 1$ folds. \n",
    "\n",
    "- The mean squared error, $\\text{MSE}_1$, is then computed on the observations in the held-out fold.\n",
    "- This procedure is repeated $k$ times; each time, ***a different group of observations is treated as a validation set***.\n",
    "\n",
    "![K-Fold CV](attachment:k-fold.png)\n",
    "\n",
    "This process results in $k$ estimates of the test error, $\\text{MSE}_1,...,\\text{MSE}_k$ . The k-fold CV estimate is computed by **averaging these values**:\n",
    "\n",
    "$$\n",
    "\\text{CV}_k=\\frac{1}{k}\\sum^k_{i=1}\\text{MSE}_k\n",
    "$$\n",
    "\n",
    "- It is not hard to see that LOOCV is a special case of $k$-fold CV in which $k$ is set to equal $n$.\n",
    "\n",
    "It is important to keep in mind that **cross-validation does not return a model**. When calling `cross_val_score`, multiple models are built internally, but the purpose of cross-validation is only to evaluate how well a given algorithm will generalize when trained on a specific dataset."
   ]
  },
  {
   "cell_type": "markdown",
   "metadata": {},
   "source": [
    "## Application: `cross_validate` and `cross_val_score`"
   ]
  },
  {
   "cell_type": "markdown",
   "metadata": {},
   "source": [
    "The simplest way to use cross-validation is to call the `cross_val_score` helper function on the estimator and the dataset. Lets create $k=10$ folds:"
   ]
  },
  {
   "cell_type": "code",
   "execution_count": 38,
   "metadata": {},
   "outputs": [
    {
     "name": "stdout",
     "output_type": "stream",
     "text": [
      "Cross-validation scores: [1.         0.93333333 1.         0.93333333 0.86666667 1.\n",
      " 0.93333333 1.         1.         1.        ]\n",
      "Mean Score (Accuracy): 0.97\n"
     ]
    }
   ],
   "source": [
    "from sklearn.neighbors import KNeighborsClassifier as kNN\n",
    "from sklearn.model_selection import cross_val_score\n",
    "\n",
    "# Instantiate Class into Object. Set Parameters\n",
    "knn = kNN(n_neighbors=3)\n",
    "\n",
    "# Train Model with K-Fold\n",
    "scores = cross_val_score(knn, X, y, cv=10)\n",
    "print(\"Cross-validation scores: {}\".format(scores))\n",
    "\n",
    "# Mean Score\n",
    "print( 'Mean Score (Accuracy):', scores.mean().round(2) )"
   ]
  },
  {
   "cell_type": "markdown",
   "metadata": {},
   "source": [
    "Splitting the dataset into $k$ folds by starting with the first one-$k$-th part of the data might not always be a good idea. \n",
    "\n",
    "By default, `scikit-learn` does not use it for classification, but rather uses **stratified k-fold cross-validation**. In stratified cross-validation, we split the data such that **the proportions between classes are the same in each fold**."
   ]
  },
  {
   "cell_type": "markdown",
   "metadata": {},
   "source": [
    "`model_selection.cross_val_score` take a `scoring` parameter that controls what metric they apply to the estimators evaluated. By default, the score computed at each CV iteration is the score method of the estimator. It is possible to change this by using the scoring parameter:"
   ]
  },
  {
   "cell_type": "code",
   "execution_count": 35,
   "metadata": {},
   "outputs": [
    {
     "name": "stdout",
     "output_type": "stream",
     "text": [
      "Mean Score: 0.97\n"
     ]
    }
   ],
   "source": [
    "# Train Model with K-Fold\n",
    "scores = cross_val_score(knn, X, y, cv=10, scoring='f1_macro')\n",
    "\n",
    "# Mean Score\n",
    "print( 'Mean Score:', scores.mean().round(2) )"
   ]
  },
  {
   "cell_type": "markdown",
   "metadata": {},
   "source": [
    "Alternatively, there is the `cross_validate` function, which differs a bit from `cross_val_score` in two ways:\n",
    "\n",
    "- It allows specifying **multiple metrics** for evaluation.\n",
    "- It returns a dict containing `fit-times`, `score-times` in addition to the `test score`."
   ]
  },
  {
   "cell_type": "code",
   "execution_count": 50,
   "metadata": {},
   "outputs": [
    {
     "name": "stdout",
     "output_type": "stream",
     "text": [
      "Mean Score: 0.97\n"
     ]
    },
    {
     "data": {
      "text/html": [
       "<div>\n",
       "<style scoped>\n",
       "    .dataframe tbody tr th:only-of-type {\n",
       "        vertical-align: middle;\n",
       "    }\n",
       "\n",
       "    .dataframe tbody tr th {\n",
       "        vertical-align: top;\n",
       "    }\n",
       "\n",
       "    .dataframe thead th {\n",
       "        text-align: right;\n",
       "    }\n",
       "</style>\n",
       "<table border=\"1\" class=\"dataframe\">\n",
       "  <thead>\n",
       "    <tr style=\"text-align: right;\">\n",
       "      <th></th>\n",
       "      <th>fit_time</th>\n",
       "      <th>score_time</th>\n",
       "      <th>test_score</th>\n",
       "    </tr>\n",
       "  </thead>\n",
       "  <tbody>\n",
       "    <tr>\n",
       "      <th>0</th>\n",
       "      <td>0.005152</td>\n",
       "      <td>0.005557</td>\n",
       "      <td>1.000000</td>\n",
       "    </tr>\n",
       "    <tr>\n",
       "      <th>1</th>\n",
       "      <td>0.003806</td>\n",
       "      <td>0.004162</td>\n",
       "      <td>0.933333</td>\n",
       "    </tr>\n",
       "    <tr>\n",
       "      <th>2</th>\n",
       "      <td>0.003748</td>\n",
       "      <td>0.003971</td>\n",
       "      <td>1.000000</td>\n",
       "    </tr>\n",
       "  </tbody>\n",
       "</table>\n",
       "</div>"
      ],
      "text/plain": [
       "   fit_time  score_time  test_score\n",
       "0  0.005152    0.005557    1.000000\n",
       "1  0.003806    0.004162    0.933333\n",
       "2  0.003748    0.003971    1.000000"
      ]
     },
     "execution_count": 50,
     "metadata": {},
     "output_type": "execute_result"
    }
   ],
   "source": [
    "from sklearn.neighbors import KNeighborsClassifier as kNN\n",
    "from sklearn.model_selection import cross_validate\n",
    "\n",
    "# Instantiate Class into Object. Set Parameters\n",
    "knn = kNN(n_neighbors=3)\n",
    "\n",
    "# Cross validation and performance evaluation\n",
    "knn_score = cross_validate(knn, X, y, cv=10) \n",
    "\n",
    "# Mean Score\n",
    "print('Mean Score:', knn_score[\"test_score\"].mean().round(2) )\n",
    "\n",
    "# Scores\n",
    "knn_score = pd.DataFrame(knn_score)\n",
    "knn_score.head(3)"
   ]
  },
  {
   "cell_type": "code",
   "execution_count": 46,
   "metadata": {},
   "outputs": [
    {
     "data": {
      "text/html": [
       "<div>\n",
       "<style scoped>\n",
       "    .dataframe tbody tr th:only-of-type {\n",
       "        vertical-align: middle;\n",
       "    }\n",
       "\n",
       "    .dataframe tbody tr th {\n",
       "        vertical-align: top;\n",
       "    }\n",
       "\n",
       "    .dataframe thead th {\n",
       "        text-align: right;\n",
       "    }\n",
       "</style>\n",
       "<table border=\"1\" class=\"dataframe\">\n",
       "  <thead>\n",
       "    <tr style=\"text-align: right;\">\n",
       "      <th></th>\n",
       "      <th>fit_time</th>\n",
       "      <th>score_time</th>\n",
       "      <th>test_precision_macro</th>\n",
       "      <th>test_recall_macro</th>\n",
       "    </tr>\n",
       "  </thead>\n",
       "  <tbody>\n",
       "    <tr>\n",
       "      <th>0</th>\n",
       "      <td>0.004226</td>\n",
       "      <td>0.011323</td>\n",
       "      <td>1.000000</td>\n",
       "      <td>1.000000</td>\n",
       "    </tr>\n",
       "    <tr>\n",
       "      <th>1</th>\n",
       "      <td>0.002567</td>\n",
       "      <td>0.007165</td>\n",
       "      <td>0.944444</td>\n",
       "      <td>0.933333</td>\n",
       "    </tr>\n",
       "    <tr>\n",
       "      <th>2</th>\n",
       "      <td>0.001993</td>\n",
       "      <td>0.006492</td>\n",
       "      <td>1.000000</td>\n",
       "      <td>1.000000</td>\n",
       "    </tr>\n",
       "    <tr>\n",
       "      <th>3</th>\n",
       "      <td>0.002992</td>\n",
       "      <td>0.006701</td>\n",
       "      <td>0.944444</td>\n",
       "      <td>0.933333</td>\n",
       "    </tr>\n",
       "  </tbody>\n",
       "</table>\n",
       "</div>"
      ],
      "text/plain": [
       "   fit_time  score_time  test_precision_macro  test_recall_macro\n",
       "0  0.004226    0.011323              1.000000           1.000000\n",
       "1  0.002567    0.007165              0.944444           0.933333\n",
       "2  0.001993    0.006492              1.000000           1.000000\n",
       "3  0.002992    0.006701              0.944444           0.933333"
      ]
     },
     "execution_count": 46,
     "metadata": {},
     "output_type": "execute_result"
    }
   ],
   "source": [
    "# Call Multiple Metrics\n",
    "scoring = ['precision_macro', 'recall_macro']\n",
    "knn_score = cross_validate(knn, X, y, cv=10, scoring=scoring) \n",
    "pd.DataFrame(knn_score).head(4)"
   ]
  },
  {
   "cell_type": "markdown",
   "metadata": {},
   "source": [
    "# Leave-One-Out Cross Validation (LOOCV)"
   ]
  },
  {
   "attachments": {
    "loocv.png": {
     "image/png": "[encoded data removed]"
    }
   },
   "cell_type": "markdown",
   "metadata": {},
   "source": [
    "***In LOOCV, a single observation $(x_1, y_1)$ is used for the validation set, and the remaining observations $[(x_2, y_2),...,(x_n, y_n)]$ make up the training set.***\n",
    "\n",
    "- The statistical learning method is **fit on the $n − 1$ training observations**, and a ***prediction $\\hat{y}_1$ is made for the excluded observation***, using its value $x_1$.\n",
    "- Since $(x_1, y_1)$ was not used in the fitting process, $\\text{MSE}_1 = (y_1 − \\hat{y}_1)^{2}$ provides an approximately **unbiased estimate for the test error**.\n",
    "- But even though $\\text{MSE}_1$ is unbiased for the test error, it is a poor estimate because it is ***highly variable, since it is based upon a single observation $(x_1, y_1)$***.\n",
    "\n",
    "**Solution**: We can **repeat the procedure** by selecting $(x_2, y_2)$ for the validation data, training the statistical learning procedure on the $n − 1$ observations $[(x_1, y_1),(x_3, y_3),...,(x_n, y_n)]$, and computing $\\text{MSE}_2=(y_2-\\hat{y}_2)^2$. \n",
    "\n",
    "![LOOCV](attachment:loocv.png)\n",
    "\n",
    "- *Repeating this approach $n$ times produces $n$ squared errors*, $\\text{MSE}_1,..., \\text{MSE}_n$.\n",
    "\n",
    "The **LOOCV** estimate for the test MSE is the **average of these $n$ test error estimates**:\n",
    "\n",
    "$$\n",
    "\\text{CV}_n=\\frac{1}{n}\\sum^n_{i=1}\\text{MSE}_i\n",
    "$$"
   ]
  },
  {
   "cell_type": "markdown",
   "metadata": {},
   "source": [
    "## Application with `LeaveOneOut`"
   ]
  },
  {
   "cell_type": "code",
   "execution_count": 51,
   "metadata": {},
   "outputs": [
    {
     "name": "stdout",
     "output_type": "stream",
     "text": [
      "Number of cv iterations:  150\n",
      "Mean accuracy: 0.96\n"
     ]
    }
   ],
   "source": [
    "from sklearn.model_selection import LeaveOneOut\n",
    "\n",
    "loo = LeaveOneOut()\n",
    "\n",
    "scores = cross_val_score(knn , X, y, cv=loo)\n",
    "\n",
    "print(\"Number of cv iterations: \", len(scores))\n",
    "print(\"Mean accuracy: {:.2f}\".format(scores.mean()))"
   ]
  }
 ],
 "metadata": {
  "kernelspec": {
   "display_name": "base",
   "language": "python",
   "name": "python3"
  },
  "language_info": {
   "codemirror_mode": {
    "name": "ipython",
    "version": 3
   },
   "file_extension": ".py",
   "mimetype": "text/x-python",
   "name": "python",
   "nbconvert_exporter": "python",
   "pygments_lexer": "ipython3",
   "version": "3.11.5"
  }
 },
 "nbformat": 4,
 "nbformat_minor": 2
}
