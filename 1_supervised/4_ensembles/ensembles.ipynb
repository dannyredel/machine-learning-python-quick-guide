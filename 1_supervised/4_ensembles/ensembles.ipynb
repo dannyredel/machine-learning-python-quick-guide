{
 "cells": [
  {
   "cell_type": "markdown",
   "metadata": {},
   "source": [
    "---\n",
    "title: \"Ensemble Methods\"\n",
    "author: Daniel Redel\n",
    "date: today\n",
    "format:\n",
    "  html:\n",
    "    toc: true\n",
    "    code-fold: false\n",
    "    html-math-method: katex\n",
    "jupyter: python3\n",
    "---"
   ]
  },
  {
   "cell_type": "code",
   "execution_count": 1,
   "metadata": {},
   "outputs": [],
   "source": [
    "import numpy as np\n",
    "import pandas as pd\n",
    "import matplotlib.pyplot as plt\n",
    "import seaborn as sns\n",
    "\n",
    "import warnings\n",
    "warnings.filterwarnings(\"ignore\")"
   ]
  },
  {
   "cell_type": "markdown",
   "metadata": {},
   "source": [
    "An **ensemble method** is an approach that combines many simple “building ensemble block” models in order to obtain a single and potentially very powerful model.\n",
    "\n",
    "We will now discuss **bagging**, **random forests** and **boosting**. These are ensemble methods for which the simple building block is a regression or a classification tree."
   ]
  },
  {
   "cell_type": "markdown",
   "metadata": {},
   "source": [
    "# Bagging"
   ]
  },
  {
   "cell_type": "markdown",
   "metadata": {},
   "source": [
    "The decision trees discussed _suffer from **high variance**_. On the other hand, **averaging trees** with relatively high variance will typically result in a low variance procedure, with the same or even lower bias (because we average).\n",
    "\n",
    "> **Bootstrap Aggregation**, or bagging, is a general-purpose procedure for reducing the variance of a statistical learning method; we introduce it here because it is particularly useful and frequently used in the context of decision trees.\n"
   ]
  },
  {
   "cell_type": "markdown",
   "metadata": {},
   "source": [
    "## Model Training\n"
   ]
  },
  {
   "cell_type": "markdown",
   "metadata": {},
   "source": [
    "Bagging classifier and regressor are implemented by `BaggingClassifier` and `BaggingRegressor` classes from `sklearn.ensemble`\n",
    " module,respectively. Using base_estimator parameter, both `BaggingClassifier` and `BaggingRegressor` can take as input a user-specified base model along with its hyperparameters. Another important hyperparameter in these constructors is `n_estimators` (by default it is 10). \n",
    "\n",
    "Recall that `RandomForest` bagging is simply a special case of a random forest with $m = p$. Therefore, the `RandomForestClassifier()` function can also be used to perform both bagging and random forests."
   ]
  },
  {
   "cell_type": "markdown",
   "metadata": {},
   "source": [
    "### Bagging Classifier"
   ]
  },
  {
   "cell_type": "code",
   "execution_count": 20,
   "metadata": {},
   "outputs": [
    {
     "data": {
      "text/html": [
       "<div>\n",
       "<style scoped>\n",
       "    .dataframe tbody tr th:only-of-type {\n",
       "        vertical-align: middle;\n",
       "    }\n",
       "\n",
       "    .dataframe tbody tr th {\n",
       "        vertical-align: top;\n",
       "    }\n",
       "\n",
       "    .dataframe thead th {\n",
       "        text-align: right;\n",
       "    }\n",
       "</style>\n",
       "<table border=\"1\" class=\"dataframe\">\n",
       "  <thead>\n",
       "    <tr style=\"text-align: right;\">\n",
       "      <th></th>\n",
       "      <th>mean radius</th>\n",
       "      <th>mean texture</th>\n",
       "      <th>mean perimeter</th>\n",
       "      <th>mean area</th>\n",
       "      <th>mean smoothness</th>\n",
       "      <th>mean compactness</th>\n",
       "      <th>mean concavity</th>\n",
       "      <th>mean concave points</th>\n",
       "      <th>mean symmetry</th>\n",
       "      <th>mean fractal dimension</th>\n",
       "      <th>...</th>\n",
       "      <th>worst texture</th>\n",
       "      <th>worst perimeter</th>\n",
       "      <th>worst area</th>\n",
       "      <th>worst smoothness</th>\n",
       "      <th>worst compactness</th>\n",
       "      <th>worst concavity</th>\n",
       "      <th>worst concave points</th>\n",
       "      <th>worst symmetry</th>\n",
       "      <th>worst fractal dimension</th>\n",
       "      <th>target</th>\n",
       "    </tr>\n",
       "  </thead>\n",
       "  <tbody>\n",
       "    <tr>\n",
       "      <th>0</th>\n",
       "      <td>17.99</td>\n",
       "      <td>10.38</td>\n",
       "      <td>122.80</td>\n",
       "      <td>1001.0</td>\n",
       "      <td>0.11840</td>\n",
       "      <td>0.27760</td>\n",
       "      <td>0.3001</td>\n",
       "      <td>0.14710</td>\n",
       "      <td>0.2419</td>\n",
       "      <td>0.07871</td>\n",
       "      <td>...</td>\n",
       "      <td>17.33</td>\n",
       "      <td>184.60</td>\n",
       "      <td>2019.0</td>\n",
       "      <td>0.1622</td>\n",
       "      <td>0.6656</td>\n",
       "      <td>0.7119</td>\n",
       "      <td>0.2654</td>\n",
       "      <td>0.4601</td>\n",
       "      <td>0.11890</td>\n",
       "      <td>0</td>\n",
       "    </tr>\n",
       "    <tr>\n",
       "      <th>1</th>\n",
       "      <td>20.57</td>\n",
       "      <td>17.77</td>\n",
       "      <td>132.90</td>\n",
       "      <td>1326.0</td>\n",
       "      <td>0.08474</td>\n",
       "      <td>0.07864</td>\n",
       "      <td>0.0869</td>\n",
       "      <td>0.07017</td>\n",
       "      <td>0.1812</td>\n",
       "      <td>0.05667</td>\n",
       "      <td>...</td>\n",
       "      <td>23.41</td>\n",
       "      <td>158.80</td>\n",
       "      <td>1956.0</td>\n",
       "      <td>0.1238</td>\n",
       "      <td>0.1866</td>\n",
       "      <td>0.2416</td>\n",
       "      <td>0.1860</td>\n",
       "      <td>0.2750</td>\n",
       "      <td>0.08902</td>\n",
       "      <td>0</td>\n",
       "    </tr>\n",
       "    <tr>\n",
       "      <th>2</th>\n",
       "      <td>19.69</td>\n",
       "      <td>21.25</td>\n",
       "      <td>130.00</td>\n",
       "      <td>1203.0</td>\n",
       "      <td>0.10960</td>\n",
       "      <td>0.15990</td>\n",
       "      <td>0.1974</td>\n",
       "      <td>0.12790</td>\n",
       "      <td>0.2069</td>\n",
       "      <td>0.05999</td>\n",
       "      <td>...</td>\n",
       "      <td>25.53</td>\n",
       "      <td>152.50</td>\n",
       "      <td>1709.0</td>\n",
       "      <td>0.1444</td>\n",
       "      <td>0.4245</td>\n",
       "      <td>0.4504</td>\n",
       "      <td>0.2430</td>\n",
       "      <td>0.3613</td>\n",
       "      <td>0.08758</td>\n",
       "      <td>0</td>\n",
       "    </tr>\n",
       "    <tr>\n",
       "      <th>3</th>\n",
       "      <td>11.42</td>\n",
       "      <td>20.38</td>\n",
       "      <td>77.58</td>\n",
       "      <td>386.1</td>\n",
       "      <td>0.14250</td>\n",
       "      <td>0.28390</td>\n",
       "      <td>0.2414</td>\n",
       "      <td>0.10520</td>\n",
       "      <td>0.2597</td>\n",
       "      <td>0.09744</td>\n",
       "      <td>...</td>\n",
       "      <td>26.50</td>\n",
       "      <td>98.87</td>\n",
       "      <td>567.7</td>\n",
       "      <td>0.2098</td>\n",
       "      <td>0.8663</td>\n",
       "      <td>0.6869</td>\n",
       "      <td>0.2575</td>\n",
       "      <td>0.6638</td>\n",
       "      <td>0.17300</td>\n",
       "      <td>0</td>\n",
       "    </tr>\n",
       "    <tr>\n",
       "      <th>4</th>\n",
       "      <td>20.29</td>\n",
       "      <td>14.34</td>\n",
       "      <td>135.10</td>\n",
       "      <td>1297.0</td>\n",
       "      <td>0.10030</td>\n",
       "      <td>0.13280</td>\n",
       "      <td>0.1980</td>\n",
       "      <td>0.10430</td>\n",
       "      <td>0.1809</td>\n",
       "      <td>0.05883</td>\n",
       "      <td>...</td>\n",
       "      <td>16.67</td>\n",
       "      <td>152.20</td>\n",
       "      <td>1575.0</td>\n",
       "      <td>0.1374</td>\n",
       "      <td>0.2050</td>\n",
       "      <td>0.4000</td>\n",
       "      <td>0.1625</td>\n",
       "      <td>0.2364</td>\n",
       "      <td>0.07678</td>\n",
       "      <td>0</td>\n",
       "    </tr>\n",
       "  </tbody>\n",
       "</table>\n",
       "<p>5 rows × 31 columns</p>\n",
       "</div>"
      ],
      "text/plain": [
       "   mean radius  mean texture  mean perimeter  mean area  mean smoothness  \\\n",
       "0        17.99         10.38          122.80     1001.0          0.11840   \n",
       "1        20.57         17.77          132.90     1326.0          0.08474   \n",
       "2        19.69         21.25          130.00     1203.0          0.10960   \n",
       "3        11.42         20.38           77.58      386.1          0.14250   \n",
       "4        20.29         14.34          135.10     1297.0          0.10030   \n",
       "\n",
       "   mean compactness  mean concavity  mean concave points  mean symmetry  \\\n",
       "0           0.27760          0.3001              0.14710         0.2419   \n",
       "1           0.07864          0.0869              0.07017         0.1812   \n",
       "2           0.15990          0.1974              0.12790         0.2069   \n",
       "3           0.28390          0.2414              0.10520         0.2597   \n",
       "4           0.13280          0.1980              0.10430         0.1809   \n",
       "\n",
       "   mean fractal dimension  ...  worst texture  worst perimeter  worst area  \\\n",
       "0                 0.07871  ...          17.33           184.60      2019.0   \n",
       "1                 0.05667  ...          23.41           158.80      1956.0   \n",
       "2                 0.05999  ...          25.53           152.50      1709.0   \n",
       "3                 0.09744  ...          26.50            98.87       567.7   \n",
       "4                 0.05883  ...          16.67           152.20      1575.0   \n",
       "\n",
       "   worst smoothness  worst compactness  worst concavity  worst concave points  \\\n",
       "0            0.1622             0.6656           0.7119                0.2654   \n",
       "1            0.1238             0.1866           0.2416                0.1860   \n",
       "2            0.1444             0.4245           0.4504                0.2430   \n",
       "3            0.2098             0.8663           0.6869                0.2575   \n",
       "4            0.1374             0.2050           0.4000                0.1625   \n",
       "\n",
       "   worst symmetry  worst fractal dimension  target  \n",
       "0          0.4601                  0.11890       0  \n",
       "1          0.2750                  0.08902       0  \n",
       "2          0.3613                  0.08758       0  \n",
       "3          0.6638                  0.17300       0  \n",
       "4          0.2364                  0.07678       0  \n",
       "\n",
       "[5 rows x 31 columns]"
      ]
     },
     "execution_count": 20,
     "metadata": {},
     "output_type": "execute_result"
    }
   ],
   "source": [
    "#| label: tbl-raw-dataset1\n",
    "#| tbl-cap: Breast Cancer Dataset\n",
    "#| code-fold: true\n",
    "from sklearn.datasets import load_breast_cancer\n",
    "cancer = load_breast_cancer()\n",
    "df = pd.DataFrame(cancer.data, columns=cancer.feature_names)\n",
    "\n",
    "# Add target\n",
    "df['target'] = cancer.target\n",
    "\n",
    "df.head(5)"
   ]
  },
  {
   "cell_type": "markdown",
   "metadata": {},
   "source": [
    "The base estimator to fit on random subsets of the dataset. If `None`, then the base estimator is a `DecisionTreeClassifier`."
   ]
  },
  {
   "cell_type": "code",
   "execution_count": 21,
   "metadata": {},
   "outputs": [],
   "source": [
    "from sklearn.model_selection import train_test_split\n",
    "from sklearn.preprocessing import StandardScaler\n",
    "from sklearn.ensemble import BaggingClassifier as Bagging\n",
    "from sklearn.tree import DecisionTreeClassifier\n",
    "\n",
    "# Target vs Inputs\n",
    "X = df.drop(columns=[\"target\"]) # Covariates-Only\n",
    "y = df[\"target\"] # Target-Outcome\n",
    "\n",
    "# Train vs Split\n",
    "X_train, X_test, y_train, y_test = train_test_split(X, y, test_size=0.2, random_state=0)\n",
    "\n",
    "# Create the base classifier\n",
    "base_classifier = DecisionTreeClassifier() # this is the default if we skip this step\n",
    " \n",
    "# Number of base models (iterations)\n",
    "n_estimators = 10 # default\n",
    "\n",
    "# Initialize Bagging Classifier\n",
    "bagging = Bagging(base_estimator=base_classifier, n_estimators=n_estimators, random_state=0)\n",
    "\n",
    "# Train Model\n",
    "bagging.fit(X_train, y_train)\n",
    "\n",
    "# Predict\n",
    "y_test_pred = bagging.predict(X_test)"
   ]
  },
  {
   "cell_type": "code",
   "execution_count": 4,
   "metadata": {},
   "outputs": [
    {
     "name": "stdout",
     "output_type": "stream",
     "text": [
      "Accuracy Train 1.0\n",
      "Accuracy Test 0.94\n",
      "Test MSE: 0.06\n"
     ]
    }
   ],
   "source": [
    "from sklearn.metrics import accuracy_score, mean_squared_error\n",
    "print('Accuracy Train' , bagging.score(X_train, y_train).round(2) ) \n",
    "print('Accuracy Test' , bagging.score(X_test, y_test).round(2) ) \n",
    "print( 'Test MSE:', mean_squared_error(y_test, y_test_pred).round(2) )"
   ]
  },
  {
   "cell_type": "markdown",
   "metadata": {},
   "source": [
    "But maybe we can do better by using pruned trees:"
   ]
  },
  {
   "cell_type": "markdown",
   "metadata": {},
   "source": [
    "#### Adjust `base_estimator`"
   ]
  },
  {
   "cell_type": "code",
   "execution_count": 5,
   "metadata": {},
   "outputs": [
    {
     "name": "stdout",
     "output_type": "stream",
     "text": [
      "Optimal Alpha: 0.93\n"
     ]
    }
   ],
   "source": [
    "import sklearn.model_selection as skm\n",
    "from sklearn.tree import DecisionTreeClassifier\n",
    "\n",
    "# Initialize Decision Tree Regressor\n",
    "dtree = DecisionTreeClassifier(random_state=0)\n",
    "\n",
    "ccp_path = dtree.cost_complexity_pruning_path(X_train, y_train)\n",
    "kfold = skm.KFold(10, random_state=1, shuffle=True)\n",
    "\n",
    "grid = skm.GridSearchCV(dtree,\n",
    "                        {'ccp_alpha': ccp_path.ccp_alphas},\n",
    "                        refit=True, cv=kfold, scoring='accuracy')\n",
    "\n",
    "grid.fit(X_train, y_train)\n",
    "\n",
    "print('Optimal Alpha:', grid.best_score_.round(2))"
   ]
  },
  {
   "cell_type": "code",
   "execution_count": 6,
   "metadata": {},
   "outputs": [],
   "source": [
    "# Create the base classifier\n",
    "base_classifier = grid.best_estimator_\n",
    " \n",
    "# Number of base models (iterations)\n",
    "n_estimators = 10\n",
    "\n",
    "# Initialize Bagging Classifier\n",
    "bagging = Bagging(base_estimator=base_classifier, n_estimators=n_estimators, random_state=0)\n",
    "\n",
    "# Train Model\n",
    "bagging.fit(X_train, y_train)\n",
    "\n",
    "# Predict\n",
    "y_test_pred = bagging.predict(X_test)"
   ]
  },
  {
   "cell_type": "code",
   "execution_count": 7,
   "metadata": {},
   "outputs": [
    {
     "name": "stdout",
     "output_type": "stream",
     "text": [
      "Accuracy Train 0.97\n",
      "Accuracy Test 0.96\n",
      "Test MSE: 0.04\n"
     ]
    }
   ],
   "source": [
    "from sklearn.metrics import accuracy_score, mean_squared_error\n",
    "print('Accuracy Train' , bagging.score(X_train, y_train).round(2) ) \n",
    "print('Accuracy Test' , bagging.score(X_test, y_test).round(2) ) \n",
    "print( 'Test MSE:', mean_squared_error(y_test, y_test_pred).round(2) )"
   ]
  },
  {
   "cell_type": "markdown",
   "metadata": {},
   "source": [
    "It is better! And with less overfitting, but better test performance."
   ]
  },
  {
   "cell_type": "markdown",
   "metadata": {},
   "source": [
    "#### Feature Importance"
   ]
  },
  {
   "cell_type": "code",
   "execution_count": 8,
   "metadata": {},
   "outputs": [
    {
     "data": {
      "image/png": "[encoded data removed]",
      "text/plain": [
       "<Figure size 640x480 with 1 Axes>"
      ]
     },
     "metadata": {},
     "output_type": "display_data"
    }
   ],
   "source": [
    "#| label: fig-feat-imp-bagg1\n",
    "#| fig-cap: Feature Importance Bagging Classifier\n",
    "#| code-fold: true\n",
    "\n",
    "feat_importance = bagging.base_estimator_.feature_importances_\n",
    "column_names = df.drop(columns='target').columns.tolist()\n",
    "\n",
    "fimp_df = pd.DataFrame(feat_importance, column_names).reset_index().sort_values(0, ascending=False).head(3)\n",
    "\n",
    "# Setup\n",
    "fig, ax = plt.subplots()\n",
    "\n",
    "# Setup\n",
    "data = fimp_df.loc[:,0].sort_values()\n",
    "index = np.arange(data.shape[0])\n",
    "bar_labels = fimp_df.sort_values(0).loc[:,'index'].tolist()\n",
    "bar_colors = ['#F2F299', '#C8E29D', '#5E9387', '#58828B']\n",
    "bar_width = 0.6\n",
    "\n",
    "# Figure\n",
    "ax.barh(index, data, bar_width, label=bar_labels, color=bar_colors)\n",
    "\n",
    "# Labels\n",
    "ax.set_ylabel('Feature Importance')\n",
    "ax.set_yticks(index, labels=bar_labels)\n",
    "\n",
    "# Show\n",
    "plt.show()"
   ]
  },
  {
   "cell_type": "markdown",
   "metadata": {},
   "source": [
    "### Bagging Regressor"
   ]
  },
  {
   "cell_type": "code",
   "execution_count": 9,
   "metadata": {},
   "outputs": [
    {
     "data": {
      "text/html": [
       "<div>\n",
       "<style scoped>\n",
       "    .dataframe tbody tr th:only-of-type {\n",
       "        vertical-align: middle;\n",
       "    }\n",
       "\n",
       "    .dataframe tbody tr th {\n",
       "        vertical-align: top;\n",
       "    }\n",
       "\n",
       "    .dataframe thead th {\n",
       "        text-align: right;\n",
       "    }\n",
       "</style>\n",
       "<table border=\"1\" class=\"dataframe\">\n",
       "  <thead>\n",
       "    <tr style=\"text-align: right;\">\n",
       "      <th></th>\n",
       "      <th>crim</th>\n",
       "      <th>zn</th>\n",
       "      <th>indus</th>\n",
       "      <th>chas</th>\n",
       "      <th>nox</th>\n",
       "      <th>rm</th>\n",
       "      <th>age</th>\n",
       "      <th>dis</th>\n",
       "      <th>rad</th>\n",
       "      <th>tax</th>\n",
       "      <th>ptratio</th>\n",
       "      <th>lstat</th>\n",
       "      <th>medv</th>\n",
       "    </tr>\n",
       "  </thead>\n",
       "  <tbody>\n",
       "    <tr>\n",
       "      <th>0</th>\n",
       "      <td>0.00632</td>\n",
       "      <td>18.0</td>\n",
       "      <td>2.31</td>\n",
       "      <td>0</td>\n",
       "      <td>0.538</td>\n",
       "      <td>6.575</td>\n",
       "      <td>65.2</td>\n",
       "      <td>4.0900</td>\n",
       "      <td>1</td>\n",
       "      <td>296</td>\n",
       "      <td>15.3</td>\n",
       "      <td>4.98</td>\n",
       "      <td>24.0</td>\n",
       "    </tr>\n",
       "    <tr>\n",
       "      <th>1</th>\n",
       "      <td>0.02731</td>\n",
       "      <td>0.0</td>\n",
       "      <td>7.07</td>\n",
       "      <td>0</td>\n",
       "      <td>0.469</td>\n",
       "      <td>6.421</td>\n",
       "      <td>78.9</td>\n",
       "      <td>4.9671</td>\n",
       "      <td>2</td>\n",
       "      <td>242</td>\n",
       "      <td>17.8</td>\n",
       "      <td>9.14</td>\n",
       "      <td>21.6</td>\n",
       "    </tr>\n",
       "    <tr>\n",
       "      <th>2</th>\n",
       "      <td>0.02729</td>\n",
       "      <td>0.0</td>\n",
       "      <td>7.07</td>\n",
       "      <td>0</td>\n",
       "      <td>0.469</td>\n",
       "      <td>7.185</td>\n",
       "      <td>61.1</td>\n",
       "      <td>4.9671</td>\n",
       "      <td>2</td>\n",
       "      <td>242</td>\n",
       "      <td>17.8</td>\n",
       "      <td>4.03</td>\n",
       "      <td>34.7</td>\n",
       "    </tr>\n",
       "    <tr>\n",
       "      <th>3</th>\n",
       "      <td>0.03237</td>\n",
       "      <td>0.0</td>\n",
       "      <td>2.18</td>\n",
       "      <td>0</td>\n",
       "      <td>0.458</td>\n",
       "      <td>6.998</td>\n",
       "      <td>45.8</td>\n",
       "      <td>6.0622</td>\n",
       "      <td>3</td>\n",
       "      <td>222</td>\n",
       "      <td>18.7</td>\n",
       "      <td>2.94</td>\n",
       "      <td>33.4</td>\n",
       "    </tr>\n",
       "    <tr>\n",
       "      <th>4</th>\n",
       "      <td>0.06905</td>\n",
       "      <td>0.0</td>\n",
       "      <td>2.18</td>\n",
       "      <td>0</td>\n",
       "      <td>0.458</td>\n",
       "      <td>7.147</td>\n",
       "      <td>54.2</td>\n",
       "      <td>6.0622</td>\n",
       "      <td>3</td>\n",
       "      <td>222</td>\n",
       "      <td>18.7</td>\n",
       "      <td>5.33</td>\n",
       "      <td>36.2</td>\n",
       "    </tr>\n",
       "  </tbody>\n",
       "</table>\n",
       "</div>"
      ],
      "text/plain": [
       "      crim    zn  indus  chas    nox     rm   age     dis  rad  tax  ptratio  \\\n",
       "0  0.00632  18.0   2.31     0  0.538  6.575  65.2  4.0900    1  296     15.3   \n",
       "1  0.02731   0.0   7.07     0  0.469  6.421  78.9  4.9671    2  242     17.8   \n",
       "2  0.02729   0.0   7.07     0  0.469  7.185  61.1  4.9671    2  242     17.8   \n",
       "3  0.03237   0.0   2.18     0  0.458  6.998  45.8  6.0622    3  222     18.7   \n",
       "4  0.06905   0.0   2.18     0  0.458  7.147  54.2  6.0622    3  222     18.7   \n",
       "\n",
       "   lstat  medv  \n",
       "0   4.98  24.0  \n",
       "1   9.14  21.6  \n",
       "2   4.03  34.7  \n",
       "3   2.94  33.4  \n",
       "4   5.33  36.2  "
      ]
     },
     "execution_count": 9,
     "metadata": {},
     "output_type": "execute_result"
    }
   ],
   "source": [
    "#| label: tbl-raw-dataset\n",
    "#| tbl-cap: Boston  Dataset\n",
    "#| code-fold: true\n",
    "from ISLP import load_data, confusion_table\n",
    "df = load_data(\"Boston\")\n",
    "\n",
    "df.head(5)"
   ]
  },
  {
   "cell_type": "code",
   "execution_count": 10,
   "metadata": {},
   "outputs": [],
   "source": [
    "from sklearn.model_selection import train_test_split\n",
    "from sklearn.preprocessing import StandardScaler\n",
    "from sklearn.ensemble import BaggingRegressor as Bagging\n",
    "from sklearn.tree import DecisionTreeRegressor\n",
    "\n",
    "# Target vs Inputs\n",
    "X = df.drop(columns=[\"medv\"]) # Covariates-Only\n",
    "y = df[\"medv\"] # Target-Outcome\n",
    "\n",
    "# Train vs Split\n",
    "X_train, X_test, y_train, y_test = train_test_split(X, y, test_size=0.2, random_state=0)\n",
    "\n",
    "# Create the base classifier\n",
    "base_classifier = DecisionTreeRegressor() # this is the default if we skip this step\n",
    " \n",
    "# Number of base models (iterations)\n",
    "n_estimators = 10 # default\n",
    "\n",
    "# Initialize Bagging Classifier\n",
    "bagging = Bagging(base_estimator=base_classifier, n_estimators=n_estimators, random_state=0)\n",
    "\n",
    "# Train Model\n",
    "bagging.fit(X_train, y_train)\n",
    "\n",
    "# Predict\n",
    "y_test_pred = bagging.predict(X_test)"
   ]
  },
  {
   "cell_type": "code",
   "execution_count": 11,
   "metadata": {},
   "outputs": [
    {
     "name": "stdout",
     "output_type": "stream",
     "text": [
      "R2 Train 0.98\n",
      "R2 Test 0.74\n",
      "Test MSE: 21.37\n"
     ]
    }
   ],
   "source": [
    "from sklearn.metrics import accuracy_score, mean_squared_error\n",
    "print('R2 Train' , bagging.score(X_train, y_train).round(2) ) \n",
    "print('R2 Test' , bagging.score(X_test, y_test).round(2) ) \n",
    "print( 'Test MSE:', mean_squared_error(y_test, y_test_pred).round(2) )"
   ]
  },
  {
   "cell_type": "markdown",
   "metadata": {},
   "source": [
    "#### Adjust `base_estimator`"
   ]
  },
  {
   "cell_type": "code",
   "execution_count": 12,
   "metadata": {},
   "outputs": [
    {
     "name": "stdout",
     "output_type": "stream",
     "text": [
      "Optimal Alpha: -15.28\n"
     ]
    }
   ],
   "source": [
    "import sklearn.model_selection as skm\n",
    "from sklearn.tree import DecisionTreeRegressor\n",
    "\n",
    "# Initialize Decision Tree Regressor\n",
    "dtree = DecisionTreeRegressor(random_state=0)\n",
    "\n",
    "ccp_path = dtree.cost_complexity_pruning_path(X_train, y_train)\n",
    "kfold = skm.KFold(5, shuffle=True, random_state=10)\n",
    "\n",
    "# Grid Search\n",
    "grid = skm.GridSearchCV(dtree, {'ccp_alpha': ccp_path.ccp_alphas}, refit=True, cv=kfold, scoring='neg_mean_squared_error')\n",
    "\n",
    "# Fit Model\n",
    "G = grid.fit(X_train, y_train)\n",
    "\n",
    "print('Optimal Alpha:', grid.best_score_.round(2))"
   ]
  },
  {
   "cell_type": "code",
   "execution_count": 13,
   "metadata": {},
   "outputs": [],
   "source": [
    "# Create the base regressor\n",
    "base_regressor = grid.best_estimator_\n",
    " \n",
    "# Number of base models (iterations)\n",
    "n_estimators = 10\n",
    "\n",
    "# Initialize Bagging Regressor\n",
    "bagging = Bagging(base_estimator=base_regressor, n_estimators=n_estimators, random_state=0)\n",
    "\n",
    "# Train Model\n",
    "bagging.fit(X_train, y_train)\n",
    "\n",
    "# Predict\n",
    "y_test_pred = bagging.predict(X_test)"
   ]
  },
  {
   "cell_type": "code",
   "execution_count": 14,
   "metadata": {},
   "outputs": [
    {
     "name": "stdout",
     "output_type": "stream",
     "text": [
      "Accuracy Train 0.95\n",
      "Accuracy Test 0.73\n",
      "Test MSE: 21.7\n"
     ]
    }
   ],
   "source": [
    "from sklearn.metrics import accuracy_score, mean_squared_error\n",
    "print('R2 Train' , bagging.score(X_train, y_train).round(2) ) \n",
    "print('R2 Test' , bagging.score(X_test, y_test).round(2) ) \n",
    "print( 'Test MSE:', mean_squared_error(y_test, y_test_pred).round(2) )"
   ]
  },
  {
   "cell_type": "markdown",
   "metadata": {},
   "source": [
    "In this case, the pruned tree performance is slightly worse."
   ]
  },
  {
   "cell_type": "markdown",
   "metadata": {},
   "source": [
    "#### Feature Importance"
   ]
  },
  {
   "cell_type": "code",
   "execution_count": 15,
   "metadata": {},
   "outputs": [
    {
     "data": {
      "image/png": "[encoded data removed]",
      "text/plain": [
       "<Figure size 640x480 with 1 Axes>"
      ]
     },
     "metadata": {},
     "output_type": "display_data"
    }
   ],
   "source": [
    "#| label: fig-feat-imp-bagg2\n",
    "#| fig-cap: Feature Importance Bagging Regressor\n",
    "#| code-fold: true\n",
    "\n",
    "feat_importance = bagging.base_estimator_.feature_importances_\n",
    "column_names = df.drop(columns='medv').columns.tolist()\n",
    "fimp_df = pd.DataFrame(feat_importance, column_names).reset_index().sort_values(0, ascending=False).head(10)\n",
    "\n",
    "# Setup\n",
    "fig, ax = plt.subplots()\n",
    "\n",
    "# Setup\n",
    "data = fimp_df.loc[:,0].sort_values()\n",
    "index = np.arange(data.shape[0])\n",
    "bar_labels = fimp_df.sort_values(0).loc[:,'index'].tolist()\n",
    "bar_colors = ['#F2F299', '#C8E29D', '#5E9387', '#58828B']\n",
    "bar_width = 0.9\n",
    "\n",
    "# Figure\n",
    "ax.barh(index, data, bar_width, label=bar_labels, color=bar_colors)\n",
    "\n",
    "# Labels\n",
    "ax.set_ylabel('Feature Importance')\n",
    "ax.set_yticks(index, labels=bar_labels)\n",
    "\n",
    "# Show\n",
    "plt.show()"
   ]
  },
  {
   "cell_type": "markdown",
   "metadata": {},
   "source": [
    "# Random Forest"
   ]
  },
  {
   "cell_type": "markdown",
   "metadata": {},
   "source": [
    "With bagging we are using in each split the **full set of** $\\textbf X$ variables available, so we tend to construct _very **similar** trees_. Therefore, **the trees will be very correlated**, and their average will not result in a variance reduction.\n",
    "-  If there is a strong predictor in the dataset, most or all trees will be similar to each other since the top split will be the strong predictor. Consequently, all of the bagged trees will look quite similar to each other.\n",
    "\n",
    "In **Random Forests**, at each split, ***we take a random sample of $m$ covariates*** chosen as split candidates *from the full set of $p$ predictors*.  A fresh sample of $m$ predictors is taken at each split.\n",
    "\n",
    "- *The split is allowed to use only one of those $m$ predictors.*\n",
    "- The default is $m \\approx \\sqrt{p}$ for ***classification*** and $m=p/3$ for ***regression***.\n",
    "\n",
    "> **Decorrelating Trees**: Random forests overcome this problem by forcing each split to _consider only a subset of the predictors_. \n",
    "\n",
    "The main difference between bagging and random forests is the choice of predictor subset size $m$. For instance, if a random forest is built using $m = p$, then this amounts simply to bagging."
   ]
  },
  {
   "cell_type": "markdown",
   "metadata": {},
   "source": [
    "## Model Training"
   ]
  },
  {
   "cell_type": "markdown",
   "metadata": {},
   "source": [
    "The random forest classifier and regressor are implemented in `RandomForestClassifier` and RandomForestRegressor classes from `sklearn.ensemble` module, respectively. Many hyperparameters in these algorithms are similar to `scikit-learn` implementation of CART with the same functionality but applied to all underlying base trees."
   ]
  },
  {
   "cell_type": "markdown",
   "metadata": {},
   "source": [
    "### Random Forest Classifier"
   ]
  },
  {
   "cell_type": "code",
   "execution_count": 38,
   "metadata": {},
   "outputs": [],
   "source": [
    "#| code-fold: true\n",
    "from sklearn.datasets import load_breast_cancer\n",
    "from sklearn.model_selection import train_test_split\n",
    "from sklearn.preprocessing import StandardScaler\n",
    "\n",
    "# Breast Cancer Data\n",
    "cancer = load_breast_cancer()\n",
    "df = pd.DataFrame(cancer.data, columns=cancer.feature_names)\n",
    "df['target'] = cancer.target\n",
    "\n",
    "# Target vs Inputs\n",
    "X = df.drop(columns=[\"target\"]) # Covariates-Only\n",
    "y = df[\"target\"] # Target-Outcome\n",
    "\n",
    "# Train vs Split\n",
    "X_train, X_test, y_train, y_test = train_test_split(X, y, test_size=0.2, random_state=0)"
   ]
  },
  {
   "cell_type": "code",
   "execution_count": 39,
   "metadata": {},
   "outputs": [],
   "source": [
    "from sklearn.ensemble import RandomForestClassifier as RF\n",
    "\n",
    "# Initialize Random Forest Classifier\n",
    "rforest = RF(random_state=0)\n",
    "\n",
    "# Train Model\n",
    "rforest.fit(X_train, y_train)\n",
    "\n",
    "# Predict\n",
    "y_test_pred = rforest.predict(X_test)"
   ]
  },
  {
   "cell_type": "code",
   "execution_count": 40,
   "metadata": {},
   "outputs": [
    {
     "name": "stdout",
     "output_type": "stream",
     "text": [
      "Accuracy Train 1.0\n",
      "Accuracy Test 0.96\n",
      "Test MSE: 0.04\n"
     ]
    }
   ],
   "source": [
    "from sklearn.metrics import accuracy_score, mean_squared_error\n",
    "print('Accuracy Train' , rforest.score(X_train, y_train).round(2) ) \n",
    "print('Accuracy Test' , rforest.score(X_test, y_test).round(2) ) \n",
    "print( 'Test MSE:', mean_squared_error(y_test, y_test_pred).round(2) )"
   ]
  },
  {
   "cell_type": "code",
   "execution_count": 41,
   "metadata": {},
   "outputs": [
    {
     "data": {
      "image/png": "[encoded data removed]",
      "text/plain": [
       "<Figure size 640x480 with 2 Axes>"
      ]
     },
     "metadata": {},
     "output_type": "display_data"
    }
   ],
   "source": [
    "#| label: fig-cmatrix1\n",
    "#| fig-cap: Confusion Matrix\n",
    "#| code-fold: true\n",
    "import matplotlib.pyplot as plt\n",
    "from sklearn.metrics import ConfusionMatrixDisplay\n",
    "\n",
    "ConfusionMatrixDisplay.from_estimator(rforest, X_test, y_test)\n",
    "plt.show()"
   ]
  },
  {
   "cell_type": "markdown",
   "metadata": {},
   "source": [
    "#### Feature Importance"
   ]
  },
  {
   "cell_type": "code",
   "execution_count": 37,
   "metadata": {},
   "outputs": [
    {
     "data": {
      "image/png": "[encoded data removed]",
      "text/plain": [
       "<Figure size 640x480 with 1 Axes>"
      ]
     },
     "metadata": {},
     "output_type": "display_data"
    }
   ],
   "source": [
    "#| label: fig-feat-imp-rf1\n",
    "#| fig-cap: Feature Importance Random Forest Classifier\n",
    "#| code-fold: true\n",
    "\n",
    "feat_importance = rforest.feature_importances_\n",
    "column_names = df.drop(columns='target').columns.tolist()\n",
    "fimp_df = pd.DataFrame(feat_importance, column_names).reset_index().sort_values(0, ascending=False).head(8)\n",
    "\n",
    "# Setup\n",
    "fig, ax = plt.subplots()\n",
    "\n",
    "# Setup\n",
    "data = fimp_df.loc[:,0].sort_values()\n",
    "index = np.arange(data.shape[0])\n",
    "bar_labels = fimp_df.sort_values(0).loc[:,'index'].tolist()\n",
    "bar_colors = ['#F2F299', '#C8E29D', '#5E9387', '#58828B']\n",
    "bar_width = 0.6\n",
    "\n",
    "# Figure\n",
    "ax.barh(index, data, bar_width, label=bar_labels, color=bar_colors)\n",
    "\n",
    "# Labels\n",
    "ax.set_ylabel('Feature Importance')\n",
    "ax.set_yticks(index, labels=bar_labels)\n",
    "\n",
    "# Show\n",
    "plt.show()"
   ]
  },
  {
   "cell_type": "markdown",
   "metadata": {},
   "source": [
    "### Random Forest Regressor"
   ]
  },
  {
   "cell_type": "code",
   "execution_count": 24,
   "metadata": {},
   "outputs": [],
   "source": [
    "#| code-fold: true\n",
    "from ISLP import load_data, confusion_table\n",
    "from sklearn.model_selection import train_test_split\n",
    "from sklearn.preprocessing import StandardScaler\n",
    "\n",
    "# Boston Dataset\n",
    "df = load_data(\"Boston\")\n",
    "\n",
    "# Target vs Inputs\n",
    "X = df.drop(columns=[\"medv\"]) # Covariates-Only\n",
    "y = df[\"medv\"] # Target-Outcome\n",
    "\n",
    "# Train vs Split\n",
    "X_train, X_test, y_train, y_test = train_test_split(X, y, test_size=0.2, random_state=0)"
   ]
  },
  {
   "cell_type": "code",
   "execution_count": 25,
   "metadata": {},
   "outputs": [],
   "source": [
    "from sklearn.ensemble import RandomForestRegressor as RF\n",
    "\n",
    "# Initialize Random Forest Regressor\n",
    "rforest = RF(random_state=0)\n",
    "\n",
    "# Train Model\n",
    "rforest.fit(X_train, y_train)\n",
    "\n",
    "# Predict\n",
    "y_test_pred = rforest.predict(X_test)"
   ]
  },
  {
   "cell_type": "code",
   "execution_count": 26,
   "metadata": {},
   "outputs": [
    {
     "name": "stdout",
     "output_type": "stream",
     "text": [
      "R2 Train 0.98\n",
      "R2 Test 0.77\n",
      "Test MSE: 18.71\n"
     ]
    }
   ],
   "source": [
    "from sklearn.metrics import accuracy_score, mean_squared_error\n",
    "print('R2 Train' , rforest.score(X_train, y_train).round(2) ) \n",
    "print('R2 Test' , rforest.score(X_test, y_test).round(2) ) \n",
    "print( 'Test MSE:', mean_squared_error(y_test, y_test_pred).round(2) )"
   ]
  },
  {
   "cell_type": "markdown",
   "metadata": {},
   "source": [
    "#### Feature Importance"
   ]
  },
  {
   "cell_type": "code",
   "execution_count": 29,
   "metadata": {},
   "outputs": [
    {
     "data": {
      "image/png": "[encoded data removed]",
      "text/plain": [
       "<Figure size 640x480 with 1 Axes>"
      ]
     },
     "metadata": {},
     "output_type": "display_data"
    }
   ],
   "source": [
    "#| label: fig-feat-imp-rf2\n",
    "#| fig-cap: Feature Importance Random Forest Regressor\n",
    "#| code-fold: true\n",
    "\n",
    "feat_importance = rforest.feature_importances_\n",
    "column_names = df.drop(columns='medv').columns.tolist()\n",
    "fimp_df = pd.DataFrame(feat_importance, column_names).reset_index().sort_values(0, ascending=False).head(10)\n",
    "\n",
    "# Setup\n",
    "fig, ax = plt.subplots()\n",
    "\n",
    "# Setup\n",
    "data = fimp_df.loc[:,0].sort_values()\n",
    "index = np.arange(data.shape[0])\n",
    "bar_labels = fimp_df.sort_values(0).loc[:,'index'].tolist()\n",
    "bar_colors = ['#F2F299', '#C8E29D', '#5E9387', '#58828B']\n",
    "bar_width = 0.9\n",
    "\n",
    "# Figure\n",
    "ax.barh(index, data, bar_width, label=bar_labels, color=bar_colors)\n",
    "\n",
    "# Labels\n",
    "ax.set_ylabel('Feature Importance')\n",
    "ax.set_yticks(index, labels=bar_labels)\n",
    "\n",
    "# Show\n",
    "plt.show()"
   ]
  },
  {
   "cell_type": "markdown",
   "metadata": {},
   "source": [
    "# Boosting"
   ]
  },
  {
   "cell_type": "markdown",
   "metadata": {},
   "source": [
    "In Bagging, each tree is built on a bootstrap data set, independent of the other trees. **Boosting** works in a similar way, except that the ***trees are grown sequentially***: ***each tree is grown using information from previously grown trees***.\n",
    "\n",
    "> **Boosting** does not involve bootstrap sampling; instead each tree is fit on a modified version of the original data set.\n",
    "\n",
    "Unlike fitting a single large decision tree to the data, which amounts to fitting the data hard and potentially overfitting, the boosting approach instead learns slowly, building smaller trees. \n",
    "- Given the current model, we fit a decision tree to the residuals from the model. \n",
    "- Note that in boosting, unlike in bagging, the construction of each tree depends strongly on the trees that have already been grown."
   ]
  },
  {
   "cell_type": "markdown",
   "metadata": {},
   "source": [
    "## Model Training"
   ]
  },
  {
   "cell_type": "markdown",
   "metadata": {},
   "source": [
    "Here we will only use Regressor as example, but the same procedure applies for the Classifier methods."
   ]
  },
  {
   "cell_type": "code",
   "execution_count": 2,
   "metadata": {},
   "outputs": [],
   "source": [
    "#| code-fold: true\n",
    "from ISLP import load_data, confusion_table\n",
    "from sklearn.model_selection import train_test_split\n",
    "from sklearn.preprocessing import StandardScaler\n",
    "\n",
    "# Boston Dataset\n",
    "df = load_data(\"Boston\")\n",
    "\n",
    "# Target vs Inputs\n",
    "X = df.drop(columns=[\"medv\"]) # Covariates-Only\n",
    "y = df[\"medv\"] # Target-Outcome\n",
    "\n",
    "# Train vs Split\n",
    "X_train, X_test, y_train, y_test = train_test_split(X, y, test_size=0.2, random_state=0)"
   ]
  },
  {
   "cell_type": "markdown",
   "metadata": {},
   "source": [
    "### AdaBoost"
   ]
  },
  {
   "cell_type": "markdown",
   "metadata": {},
   "source": [
    "`AdaBoost.SAMME` can be implemented using `AdaBoostClassifier` from `sklearn.ensemble` module by setting the algorithm parameter to `SAMME`. AdaBoost.R2 is implemented by `AdaBoostRegressor` from the same module. Using `base_estimator` parameter, both `AdaBoostClassifier` and `AdaBoostRegressor` can take as input a user-specified base model along with its hyperparameters. \n",
    "- If this parameter is not specified, by default a decision stump (a `DecisionTreeClassifier` with `max_depth` of 1) will be used. "
   ]
  },
  {
   "cell_type": "code",
   "execution_count": 3,
   "metadata": {},
   "outputs": [],
   "source": [
    "from sklearn.ensemble import AdaBoostRegressor as boosting\n",
    "\n",
    "# Initialize Boosting Regressor\n",
    "adaboost = boosting(random_state=0)\n",
    "\n",
    "# Train Model\n",
    "adaboost.fit(X_train, y_train)\n",
    "\n",
    "# Predict\n",
    "y_test_pred = adaboost.predict(X_test)"
   ]
  },
  {
   "cell_type": "code",
   "execution_count": 4,
   "metadata": {},
   "outputs": [
    {
     "name": "stdout",
     "output_type": "stream",
     "text": [
      "R2 Train 0.92\n",
      "R2 Test 0.64\n",
      "Test MSE: 29.02\n"
     ]
    }
   ],
   "source": [
    "from sklearn.metrics import accuracy_score, mean_squared_error\n",
    "print('R2 Train' , adaboost.score(X_train, y_train).round(2) ) \n",
    "print('R2 Test' , adaboost.score(X_test, y_test).round(2) ) \n",
    "print( 'Test MSE:', mean_squared_error(y_test, y_test_pred).round(2) )"
   ]
  },
  {
   "cell_type": "markdown",
   "metadata": {},
   "source": [
    "#### Adjust `base_estimator`"
   ]
  },
  {
   "cell_type": "code",
   "execution_count": 5,
   "metadata": {},
   "outputs": [
    {
     "name": "stdout",
     "output_type": "stream",
     "text": [
      "Optimal Alpha: -15.28\n"
     ]
    }
   ],
   "source": [
    "import sklearn.model_selection as skm\n",
    "from sklearn.tree import DecisionTreeRegressor\n",
    "\n",
    "# Initialize Decision Tree Regressor\n",
    "dtree = DecisionTreeRegressor(random_state=0)\n",
    "\n",
    "ccp_path = dtree.cost_complexity_pruning_path(X_train, y_train)\n",
    "kfold = skm.KFold(5, shuffle=True, random_state=10)\n",
    "\n",
    "# Grid Search\n",
    "grid = skm.GridSearchCV(dtree, {'ccp_alpha': ccp_path.ccp_alphas}, refit=True, cv=kfold, scoring='neg_mean_squared_error')\n",
    "\n",
    "# Fit Model\n",
    "G = grid.fit(X_train, y_train)\n",
    "\n",
    "print('Optimal Alpha:', grid.best_score_.round(2))"
   ]
  },
  {
   "cell_type": "code",
   "execution_count": 6,
   "metadata": {},
   "outputs": [],
   "source": [
    "# Create the base regressor\n",
    "base_regressor = grid.best_estimator_\n",
    " \n",
    "# Number of base models (iterations)\n",
    "n_estimators = 50 # default\n",
    "\n",
    "# Initialize Bagging Regressor\n",
    "adaboost = boosting(base_estimator=base_regressor, n_estimators=n_estimators, random_state=0)\n",
    "\n",
    "# Train Model\n",
    "adaboost.fit(X_train, y_train)\n",
    "\n",
    "# Predict\n",
    "y_test_pred = adaboost.predict(X_test)"
   ]
  },
  {
   "cell_type": "code",
   "execution_count": 7,
   "metadata": {},
   "outputs": [
    {
     "name": "stdout",
     "output_type": "stream",
     "text": [
      "R2 Train 0.98\n",
      "R2 Test 0.67\n",
      "Test MSE: 26.62\n"
     ]
    }
   ],
   "source": [
    "from sklearn.metrics import accuracy_score, mean_squared_error\n",
    "print('R2 Train' , adaboost.score(X_train, y_train).round(2) ) \n",
    "print('R2 Test' , adaboost.score(X_test, y_test).round(2) ) \n",
    "print( 'Test MSE:', mean_squared_error(y_test, y_test_pred).round(2) )"
   ]
  },
  {
   "cell_type": "markdown",
   "metadata": {},
   "source": [
    "#### Feature Importance"
   ]
  },
  {
   "cell_type": "code",
   "execution_count": 11,
   "metadata": {},
   "outputs": [
    {
     "data": {
      "image/png": "[encoded data removed]",
      "text/plain": [
       "<Figure size 640x480 with 1 Axes>"
      ]
     },
     "metadata": {},
     "output_type": "display_data"
    }
   ],
   "source": [
    "#| label: fig-feat-imp-adaboost\n",
    "#| fig-cap: Feature Importance AdaBoost Regressor\n",
    "#| code-fold: true\n",
    "\n",
    "feat_importance = adaboost.feature_importances_\n",
    "column_names = df.drop(columns='medv').columns.tolist()\n",
    "fimp_df = pd.DataFrame(feat_importance, column_names).reset_index().sort_values(0, ascending=False).head(10)\n",
    "\n",
    "# Setup\n",
    "fig, ax = plt.subplots()\n",
    "\n",
    "# Setup\n",
    "data = fimp_df.loc[:,0].sort_values()\n",
    "index = np.arange(data.shape[0])\n",
    "bar_labels = fimp_df.sort_values(0).loc[:,'index'].tolist()\n",
    "bar_colors = ['#F2F299', '#C8E29D', '#5E9387', '#58828B']\n",
    "bar_width = 0.9\n",
    "\n",
    "# Figure\n",
    "ax.barh(index, data, bar_width, label=bar_labels, color=bar_colors)\n",
    "\n",
    "# Labels\n",
    "ax.set_ylabel('Feature Importance')\n",
    "ax.set_yticks(index, labels=bar_labels)\n",
    "\n",
    "# Show\n",
    "plt.show()"
   ]
  },
  {
   "cell_type": "markdown",
   "metadata": {},
   "source": [
    "### Gradient Boosting"
   ]
  },
  {
   "cell_type": "markdown",
   "metadata": {},
   "source": [
    "GBRT for classification and regression are  implemented using `GradientBoostingClassifier` and `GradientBoostingRegressor` classes from `sklearn.ensemble` module, respectively. By default a regression tree of `max_depth` of 3 will be used as the base learner. The `n_estimators=100` parameter controls the maximum number of base models (M in the aforementioned algorithms). The supported loss values for `GradientBoostingClassifier` are deviance and exponential, and for `GradientBoostingRegressor` are `squared_error`, `absolute_error`, and two more options. "
   ]
  },
  {
   "cell_type": "code",
   "execution_count": 13,
   "metadata": {},
   "outputs": [],
   "source": [
    "from sklearn.ensemble import GradientBoostingRegressor as boosting\n",
    "\n",
    "# Initialize Boosting Regressor\n",
    "gradient = boosting(random_state=0)\n",
    "\n",
    "# Train Model\n",
    "gradient.fit(X_train, y_train)\n",
    "\n",
    "# Predict\n",
    "y_test_pred = gradient.predict(X_test)"
   ]
  },
  {
   "cell_type": "code",
   "execution_count": 14,
   "metadata": {},
   "outputs": [
    {
     "name": "stdout",
     "output_type": "stream",
     "text": [
      "R2 Train 0.98\n",
      "R2 Test 0.78\n",
      "Test MSE: 17.98\n"
     ]
    }
   ],
   "source": [
    "from sklearn.metrics import accuracy_score, mean_squared_error\n",
    "print('R2 Train' , gradient.score(X_train, y_train).round(2) ) \n",
    "print('R2 Test' , gradient.score(X_test, y_test).round(2) ) \n",
    "print( 'Test MSE:', mean_squared_error(y_test, y_test_pred).round(2) )"
   ]
  },
  {
   "cell_type": "markdown",
   "metadata": {},
   "source": [
    "### XGBoost"
   ]
  },
  {
   "cell_type": "markdown",
   "metadata": {},
   "source": [
    "XGBoost is not part of scikit-learn but its Python library can be installed and it has a scikit-learn API that makes it accessible similar to many other estimators in scikit-learn. One can use Conda package manager to install **`xgboost`** package for Python. \n",
    "\n",
    "As XGBoost is essentially a form of GBRT, it can be used for both classification and regression. \n",
    "\n",
    "- The classifier and regressor classes can be imported as from `xgboost import XGBClassifier` and from `xgboost import XGBRegressor`, respectively. \n",
    "- Once imported, they can be used similarly to scikit-learn estimators. Some of the important hyperparameters in these classes are `n_estimators`, `max_depth`, `gamma`, `reg_lambda`, and `learning_rate`."
   ]
  },
  {
   "cell_type": "code",
   "execution_count": 15,
   "metadata": {},
   "outputs": [],
   "source": [
    "from xgboost import XGBRegressor as boosting\n",
    "\n",
    "# Initialize Boosting Regressor\n",
    "xgb = boosting(random_state=0)\n",
    "\n",
    "# Train Model\n",
    "xgb.fit(X_train, y_train)\n",
    "\n",
    "# Predict\n",
    "y_test_pred = xgb.predict(X_test)"
   ]
  },
  {
   "cell_type": "code",
   "execution_count": 16,
   "metadata": {},
   "outputs": [
    {
     "name": "stdout",
     "output_type": "stream",
     "text": [
      "R2 Train 1.0\n",
      "R2 Test 0.73\n",
      "Test MSE: 22.39\n"
     ]
    }
   ],
   "source": [
    "from sklearn.metrics import accuracy_score, mean_squared_error\n",
    "print('R2 Train' , xgb.score(X_train, y_train).round(2) ) \n",
    "print('R2 Test' , xgb.score(X_test, y_test).round(2) ) \n",
    "print( 'Test MSE:', mean_squared_error(y_test, y_test_pred).round(2) )"
   ]
  }
 ],
 "metadata": {
  "kernelspec": {
   "display_name": "base",
   "language": "python",
   "name": "python3"
  },
  "language_info": {
   "codemirror_mode": {
    "name": "ipython",
    "version": 3
   },
   "file_extension": ".py",
   "mimetype": "text/x-python",
   "name": "python",
   "nbconvert_exporter": "python",
   "pygments_lexer": "ipython3",
   "version": "3.11.5"
  }
 },
 "nbformat": 4,
 "nbformat_minor": 2
}
