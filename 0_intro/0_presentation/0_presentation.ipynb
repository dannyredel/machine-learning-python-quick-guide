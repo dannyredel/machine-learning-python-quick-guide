{
 "cells": [
  {
   "cell_type": "markdown",
   "metadata": {},
   "source": [
    "---\n",
    "title: \"Presentation\"\n",
    "author: Daniel Redel\n",
    "date: today\n",
    "format:\n",
    "  html:\n",
    "    toc: true\n",
    "    code-fold: false\n",
    "    html-math-method: katex\n",
    "jupyter: python3\n",
    "---"
   ]
  },
  {
   "cell_type": "markdown",
   "metadata": {},
   "source": [
    "The primary goal of this ebook is to provide a **concise and practical introduction to main machine learning algorithms**. The other goal of mine is for me to improve my Python skills, as well as my reporting skills with [**Quarto**](https://quarto.org/docs/get-started/hello/jupyter.html), which is a really cool open-source scientific and technical publishing system! \n",
    "\n",
    "Machine learning is an integral part of many commercial applications and research projects today, in areas ranging from medical diagnosis and treatment to finding your friends on social networks. \n",
    "\n",
    "In this ebook, I want to show you how easy it can be to build machine learning solutions yourself, and how to best go about it. The applications of machine learning are endless and, with the amount of data avail able today, mostly limited by your imagination.\n",
    "\n",
    "I focus on using **Python** and the [`scikit-learn`](https://scikit-learn.org/stable/) library, and work through all the steps to create a successful machine learning application. The methods I introduce will be helpful for scientists and researchers, as well as data scientists working on commercial applications.\n",
    "\n",
    "It's important to acknowledge the foundational resources that have shaped the content of this ebook. While the Jupyter Notebooks, sections, and notes have been crafted and organized by me (aka, all errors here are my fault!), the contents and practical applications draw heavily from three exceptional texts on machine learning with Python, listed below in the _References_ section.\n",
    "\n",
    "## References\n",
    "- James, G., Witten, D., Hastie, T., Tibshirani, R., & Taylor, J. (2023). [_An introduction to statistical learning: With applications in python_](https://www.statlearning.com/). Springer Nature.\n",
    "- Müller, A. C., & Guido, S. (2016). [_Introduction to machine learning with Python: a guide for data scientists_](https://www.oreilly.com/library/view/introduction-to-machine/9781449369880/). O'Reilly Media, Inc..\n",
    "- Zollanvari, A. (2023). [_Machine Learning with Python: Theory and Implementation_](https://link.springer.com/book/10.1007/978-3-031-33342-2). Springer Nature."
   ]
  }
 ],
 "metadata": {
  "kernelspec": {
   "display_name": "base",
   "language": "python",
   "name": "python3"
  },
  "language_info": {
   "name": "python",
   "version": "3.11.5"
  }
 },
 "nbformat": 4,
 "nbformat_minor": 2
}
